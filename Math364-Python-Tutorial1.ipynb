{
 "cells": [
  {
   "cell_type": "code",
   "execution_count": 82,
   "metadata": {},
   "outputs": [
    {
     "name": "stdout",
     "output_type": "stream",
     "text": [
      "x= [1, 2, 3]\n",
      "y= [4, 5, 6]\n",
      "new x= [1, 2, 3, 6]\n"
     ]
    }
   ],
   "source": [
    "# Math 364-Spring 2020, Instructor: Mostafa Rezapour\n",
    "# Python Tutorial 1\n",
    "\n",
    "#Lists: A list can contain elements of different types. In Python a list is different from a vector.\n",
    "\n",
    "x=[1,2,3]\n",
    "print('x=',x) \n",
    "y=[4,5,6]\n",
    "print('y=',y)\n",
    "x.append(6)\n",
    "print('new x=',x)"
   ]
  },
  {
   "cell_type": "code",
   "execution_count": 83,
   "metadata": {},
   "outputs": [
    {
     "name": "stdout",
     "output_type": "stream",
     "text": [
      "The first element in the list is equal to 1\n"
     ]
    }
   ],
   "source": [
    "# In Python the first index is zero.\n",
    "print('The first element in the list is equal to', x[0])"
   ]
  },
  {
   "cell_type": "code",
   "execution_count": 84,
   "metadata": {},
   "outputs": [
    {
     "name": "stdout",
     "output_type": "stream",
     "text": [
      "2 3 6 6\n"
     ]
    }
   ],
   "source": [
    "print(x[1],x[2],x[3],x[-1])"
   ]
  },
  {
   "cell_type": "code",
   "execution_count": 85,
   "metadata": {},
   "outputs": [
    {
     "name": "stdout",
     "output_type": "stream",
     "text": [
      "y= [0, 1, 2, 3, 4, 5, 6]\n"
     ]
    }
   ],
   "source": [
    "#Python provides concise syntax to access sublists\n",
    "y=list(range(7))\n",
    "print('y=',y)"
   ]
  },
  {
   "cell_type": "code",
   "execution_count": 86,
   "metadata": {},
   "outputs": [
    {
     "name": "stdout",
     "output_type": "stream",
     "text": [
      "[0, 1]\n"
     ]
    }
   ],
   "source": [
    "print(y[0:2])"
   ]
  },
  {
   "cell_type": "code",
   "execution_count": 87,
   "metadata": {},
   "outputs": [
    {
     "name": "stdout",
     "output_type": "stream",
     "text": [
      "[2, 3, 4]\n"
     ]
    }
   ],
   "source": [
    "print(y[2:5])"
   ]
  },
  {
   "cell_type": "code",
   "execution_count": 88,
   "metadata": {},
   "outputs": [
    {
     "name": "stdout",
     "output_type": "stream",
     "text": [
      "0\n",
      "1\n",
      "2\n",
      "3\n"
     ]
    }
   ],
   "source": [
    "#Loops. You can loop over the elements:\n",
    "z=list(range(4))\n",
    "for i in z:\n",
    "    print(z[i])\n"
   ]
  },
  {
   "cell_type": "code",
   "execution_count": 89,
   "metadata": {},
   "outputs": [
    {
     "name": "stdout",
     "output_type": "stream",
     "text": [
      "Optimization\n",
      "Machine-Learning\n",
      "Deep-Learning\n",
      "Data-Analysis\n"
     ]
    }
   ],
   "source": [
    "Mostafa_interests=['Optimization', 'Machine-Learning', 'Deep-Learning', 'Data-Analysis']\n",
    "for i in Mostafa_interests:\n",
    "    print(i)\n"
   ]
  },
  {
   "cell_type": "code",
   "execution_count": 90,
   "metadata": {},
   "outputs": [
    {
     "name": "stdout",
     "output_type": "stream",
     "text": [
      "1 = Optimization\n",
      "1 = Machine-Learning\n",
      "1 = Deep-Learning\n",
      "1 = Data-Analysis\n"
     ]
    }
   ],
   "source": [
    "Mostafa_interests=['Optimization', 'Machine-Learning', 'Deep-Learning', 'Data-Analysis']\n",
    "index=1\n",
    "for i in Mostafa_interests:\n",
    "    print(index,'=',i)\n"
   ]
  },
  {
   "cell_type": "code",
   "execution_count": 91,
   "metadata": {},
   "outputs": [
    {
     "data": {
      "text/plain": [
       "([2, 6],)"
      ]
     },
     "execution_count": 91,
     "metadata": {},
     "output_type": "execute_result"
    }
   ],
   "source": [
    "def abs(x):\n",
    "    if x>=0:\n",
    "        return x\n",
    "    else: \n",
    "        return -x\n",
    "\n",
    "#example\n",
    "a1=abs(2)\n",
    "a2=abs(-6)\n",
    "[a1,a2], # a list \n"
   ]
  },
  {
   "cell_type": "code",
   "execution_count": 92,
   "metadata": {},
   "outputs": [
    {
     "data": {
      "text/plain": [
       "40"
      ]
     },
     "execution_count": 92,
     "metadata": {},
     "output_type": "execute_result"
    }
   ],
   "source": [
    "def my_function(x,y,z):\n",
    "    return (x*y)**2+z\n",
    "#example \n",
    "my_function(2,3,4)\n",
    "\n",
    "    "
   ]
  },
  {
   "cell_type": "code",
   "execution_count": 93,
   "metadata": {},
   "outputs": [
    {
     "data": {
      "text/plain": [
       "[3, 2, 6]"
      ]
     },
     "execution_count": 93,
     "metadata": {},
     "output_type": "execute_result"
    }
   ],
   "source": [
    "def your_function(x,y,z):\n",
    "    a=x+y\n",
    "    b=x*y\n",
    "    c=x+y+z\n",
    "    return [a,b,c]\n",
    "\n",
    "#example\n",
    "your_function(1,2,3)\n",
    "    "
   ]
  },
  {
   "cell_type": "code",
   "execution_count": 94,
   "metadata": {},
   "outputs": [
    {
     "name": "stdout",
     "output_type": "stream",
     "text": [
      "array1= [1 2 3] and its type is <class 'numpy.ndarray'>\n",
      "list1= [1, 2, 3] and its type is <class 'list'>\n"
     ]
    }
   ],
   "source": [
    "# How can we store an array in Python? Using Numpy library\n",
    "import numpy as np\n",
    "ar1=np.array([1,2,3])\n",
    "print('array1=',ar1, 'and its type is', type(ar1))\n",
    "li1=[1,2,3]\n",
    "print('list1=',li1, 'and its type is', type(li1))\n",
    "\n"
   ]
  },
  {
   "cell_type": "code",
   "execution_count": 95,
   "metadata": {},
   "outputs": [
    {
     "data": {
      "text/plain": [
       "1"
      ]
     },
     "execution_count": 95,
     "metadata": {},
     "output_type": "execute_result"
    }
   ],
   "source": [
    "ar1[0]"
   ]
  },
  {
   "cell_type": "code",
   "execution_count": 96,
   "metadata": {},
   "outputs": [
    {
     "data": {
      "text/plain": [
       "1"
      ]
     },
     "execution_count": 96,
     "metadata": {},
     "output_type": "execute_result"
    }
   ],
   "source": [
    "li1[0]"
   ]
  },
  {
   "cell_type": "code",
   "execution_count": 97,
   "metadata": {},
   "outputs": [
    {
     "name": "stdout",
     "output_type": "stream",
     "text": [
      "(3,)\n",
      "(3,)\n"
     ]
    }
   ],
   "source": [
    "ar2=np.array([4,5,6])\n",
    "li2=[4,5,6]\n",
    "print(np.shape(ar2))\n",
    "print(np.shape(li2))\n",
    "\n"
   ]
  },
  {
   "cell_type": "code",
   "execution_count": 98,
   "metadata": {},
   "outputs": [
    {
     "name": "stdout",
     "output_type": "stream",
     "text": [
      "(2, 3)\n",
      "<class 'list'>\n"
     ]
    }
   ],
   "source": [
    "A=[[1,2,3],[4,5,6]]\n",
    "A\n",
    "print(np.shape(A))\n",
    "print(type(A))"
   ]
  },
  {
   "cell_type": "code",
   "execution_count": 99,
   "metadata": {},
   "outputs": [
    {
     "name": "stdout",
     "output_type": "stream",
     "text": [
      "(3, 2)\n",
      "<class 'numpy.ndarray'>\n"
     ]
    }
   ],
   "source": [
    "B=np.transpose(A)\n",
    "B\n",
    "print(np.shape(B))\n",
    "print(type(B))"
   ]
  },
  {
   "cell_type": "code",
   "execution_count": 100,
   "metadata": {},
   "outputs": [
    {
     "data": {
      "text/plain": [
       "[1, 2, 3]"
      ]
     },
     "execution_count": 100,
     "metadata": {},
     "output_type": "execute_result"
    }
   ],
   "source": [
    "A[0]"
   ]
  },
  {
   "cell_type": "code",
   "execution_count": 101,
   "metadata": {},
   "outputs": [
    {
     "data": {
      "text/plain": [
       "[4, 5, 6]"
      ]
     },
     "execution_count": 101,
     "metadata": {},
     "output_type": "execute_result"
    }
   ],
   "source": [
    "A[1]"
   ]
  },
  {
   "cell_type": "code",
   "execution_count": 102,
   "metadata": {},
   "outputs": [
    {
     "data": {
      "text/plain": [
       "1"
      ]
     },
     "execution_count": 102,
     "metadata": {},
     "output_type": "execute_result"
    }
   ],
   "source": [
    "A[0][0]"
   ]
  },
  {
   "cell_type": "code",
   "execution_count": 103,
   "metadata": {},
   "outputs": [
    {
     "data": {
      "text/plain": [
       "4"
      ]
     },
     "execution_count": 103,
     "metadata": {},
     "output_type": "execute_result"
    }
   ],
   "source": [
    "A[1][0]"
   ]
  },
  {
   "cell_type": "code",
   "execution_count": 104,
   "metadata": {},
   "outputs": [
    {
     "name": "stdout",
     "output_type": "stream",
     "text": [
      "(2, 3)\n",
      "<class 'numpy.ndarray'>\n"
     ]
    }
   ],
   "source": [
    "AA=np.array([[1,2,3],[4,5,6]])\n",
    "AA\n",
    "print(np.shape(AA))\n",
    "print(type(AA))"
   ]
  },
  {
   "cell_type": "code",
   "execution_count": 105,
   "metadata": {},
   "outputs": [
    {
     "name": "stdout",
     "output_type": "stream",
     "text": [
      "(2, 3)\n",
      "<class 'numpy.ndarray'>\n"
     ]
    }
   ],
   "source": [
    "BB=np.array([[11,21,31],[41,51,61]])\n",
    "BB\n",
    "print(np.shape(BB))\n",
    "print(type(BB))"
   ]
  },
  {
   "cell_type": "code",
   "execution_count": 106,
   "metadata": {},
   "outputs": [
    {
     "data": {
      "text/plain": [
       "array([[12, 23, 34],\n",
       "       [45, 56, 67]])"
      ]
     },
     "execution_count": 106,
     "metadata": {},
     "output_type": "execute_result"
    }
   ],
   "source": [
    "AA+BB"
   ]
  },
  {
   "cell_type": "code",
   "execution_count": 107,
   "metadata": {},
   "outputs": [
    {
     "name": "stdout",
     "output_type": "stream",
     "text": [
      "[[1 4]\n",
      " [2 5]\n",
      " [3 6]]\n"
     ]
    }
   ],
   "source": [
    "print(AA.transpose())"
   ]
  },
  {
   "cell_type": "code",
   "execution_count": 108,
   "metadata": {},
   "outputs": [
    {
     "name": "stdout",
     "output_type": "stream",
     "text": [
      "(3, 2)\n"
     ]
    }
   ],
   "source": [
    "AAt=np.transpose(AA)\n",
    "AAt\n",
    "print(np.shape(AAt))"
   ]
  },
  {
   "cell_type": "code",
   "execution_count": 109,
   "metadata": {},
   "outputs": [
    {
     "name": "stdout",
     "output_type": "stream",
     "text": [
      "[[175 225 275]\n",
      " [227 297 367]\n",
      " [279 369 459]] \n",
      " and its dimension is (3, 3)\n"
     ]
    }
   ],
   "source": [
    "# Matrix Multiplication\n",
    "CC=np.matmul(AAt,BB)\n",
    "print(CC,'\\n and its dimension is', np.shape(CC))"
   ]
  },
  {
   "cell_type": "code",
   "execution_count": null,
   "metadata": {},
   "outputs": [],
   "source": []
  },
  {
   "cell_type": "code",
   "execution_count": null,
   "metadata": {},
   "outputs": [],
   "source": []
  },
  {
   "cell_type": "code",
   "execution_count": null,
   "metadata": {},
   "outputs": [],
   "source": []
  },
  {
   "cell_type": "code",
   "execution_count": null,
   "metadata": {},
   "outputs": [],
   "source": []
  },
  {
   "cell_type": "code",
   "execution_count": null,
   "metadata": {},
   "outputs": [],
   "source": []
  },
  {
   "cell_type": "code",
   "execution_count": null,
   "metadata": {},
   "outputs": [],
   "source": []
  },
  {
   "cell_type": "code",
   "execution_count": null,
   "metadata": {},
   "outputs": [],
   "source": []
  }
 ],
 "metadata": {
  "kernelspec": {
   "display_name": "Python 3.6 (tensorflow)",
   "language": "python",
   "name": "tensorflow"
  },
  "language_info": {
   "codemirror_mode": {
    "name": "ipython",
    "version": 3
   },
   "file_extension": ".py",
   "mimetype": "text/x-python",
   "name": "python",
   "nbconvert_exporter": "python",
   "pygments_lexer": "ipython3",
   "version": "3.6.9"
  }
 },
 "nbformat": 4,
 "nbformat_minor": 2
}
