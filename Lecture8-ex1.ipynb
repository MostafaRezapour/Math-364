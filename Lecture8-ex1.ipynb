{
 "cells": [
  {
   "cell_type": "markdown",
   "metadata": {},
   "source": [
    "Solving an LP with PuLP. Please take a look at the Jupyter Notebook installation guidlines at the course webpage (http://www.math.wsu.edu/students/mrezapour/MATH-364/) and install PuLP. "
   ]
  },
  {
   "cell_type": "markdown",
   "metadata": {},
   "source": [
    "Now we want to solve the following LP from Lecture 8:\n",
    "\\begin{equation}\n",
    "\\begin{aligned}\n",
    "\\min_{} \\quad & z=2x_1+3x_2     \\\\\n",
    "\\textrm{   s.t.} \\quad & \\frac{1}{2}x_1+\\frac{1}{4}x_2\\leq 4,\\\\\n",
    "  &x_1+3x_2\\geq 20 ,   \\\\\n",
    "    &x_1+x_2=10 ,   \\\\\n",
    "   &x_1,x_2\\geq 0.    \\\\\n",
    "\\end{aligned}\n",
    "\\end{equation}"
   ]
  },
  {
   "cell_type": "markdown",
   "metadata": {},
   "source": [
    "PuLP is an open source linear programming package for python. "
   ]
  },
  {
   "cell_type": "code",
   "execution_count": 18,
   "metadata": {},
   "outputs": [],
   "source": [
    "import pulp\n"
   ]
  },
  {
   "cell_type": "markdown",
   "metadata": {},
   "source": [
    "Then instantiate a problem class, we’ll name it “problem1” and we’re looking for an optimal maximum so we use LpMaximize"
   ]
  },
  {
   "cell_type": "code",
   "execution_count": 20,
   "metadata": {},
   "outputs": [],
   "source": [
    "z = pulp.LpProblem('problem1', pulp.LpMinimize)\n",
    "\n"
   ]
  },
  {
   "cell_type": "markdown",
   "metadata": {},
   "source": [
    "We then model our decision variables using the LpVariable class. In our example, x_1 and x_2 are greater than or equal to 0."
   ]
  },
  {
   "cell_type": "code",
   "execution_count": 21,
   "metadata": {},
   "outputs": [],
   "source": [
    "x1 = pulp.LpVariable('x1', lowBound=0)\n",
    "x2 = pulp.LpVariable('x2', lowBound=0)"
   ]
  },
  {
   "cell_type": "markdown",
   "metadata": {},
   "source": [
    "The objective function and constraints are added using the += operator to our model.\n",
    "Note that the objective function is added first and the following will be the contsraints. "
   ]
  },
  {
   "cell_type": "code",
   "execution_count": 22,
   "metadata": {},
   "outputs": [],
   "source": [
    "# Objective function\n",
    "z += 2*x1 + 3*x2"
   ]
  },
  {
   "cell_type": "code",
   "execution_count": 23,
   "metadata": {},
   "outputs": [],
   "source": [
    "# constraints \n",
    "z += 0.5*x1 + 0.25*x2 <= 4\n",
    "z += x1 + 3*x2 >= 20\n",
    "z += x1 + x2 == 10"
   ]
  },
  {
   "cell_type": "markdown",
   "metadata": {},
   "source": [
    "We have now constructed our problem and can have a look at it.\n",
    "\n"
   ]
  },
  {
   "cell_type": "code",
   "execution_count": 24,
   "metadata": {},
   "outputs": [
    {
     "data": {
      "text/plain": [
       "problem1:\n",
       "MINIMIZE\n",
       "2*x1 + 3*x2 + 0\n",
       "SUBJECT TO\n",
       "_C1: 0.5 x1 + 0.25 x2 <= 4\n",
       "\n",
       "_C2: x1 + 3 x2 >= 20\n",
       "\n",
       "_C3: x1 + x2 = 10\n",
       "\n",
       "VARIABLES\n",
       "x1 Continuous\n",
       "x2 Continuous"
      ]
     },
     "execution_count": 24,
     "metadata": {},
     "output_type": "execute_result"
    }
   ],
   "source": [
    "z"
   ]
  },
  {
   "cell_type": "markdown",
   "metadata": {},
   "source": [
    "Now we want to check to find out which case occurs:\n",
    "\n",
    "1. Optimal: An optimal solution has been found.\n",
    "\n",
    "2. Infeasible: There are no feasible solutions .\n",
    "\n",
    "3. Unbounded: The constraints are not bounded, maximising the solution will tend towards infinity "
   ]
  },
  {
   "cell_type": "code",
   "execution_count": 25,
   "metadata": {},
   "outputs": [
    {
     "data": {
      "text/plain": [
       "'Optimal'"
      ]
     },
     "execution_count": 25,
     "metadata": {},
     "output_type": "execute_result"
    }
   ],
   "source": [
    "pulp.LpStatus[z.solve()]\n"
   ]
  },
  {
   "cell_type": "markdown",
   "metadata": {},
   "source": [
    "We can now view our maximal variable values and the maximum value of $Z$."
   ]
  },
  {
   "cell_type": "code",
   "execution_count": 26,
   "metadata": {},
   "outputs": [
    {
     "name": "stdout",
     "output_type": "stream",
     "text": [
      "x1 = 5.0\n",
      "x2 = 5.0\n"
     ]
    }
   ],
   "source": [
    "for variable in z.variables():\n",
    "    print (\"{} = {}\".format(variable.name, variable.varValue))"
   ]
  },
  {
   "cell_type": "code",
   "execution_count": 27,
   "metadata": {},
   "outputs": [
    {
     "name": "stdout",
     "output_type": "stream",
     "text": [
      "z= 25.0\n"
     ]
    }
   ],
   "source": [
    "print (\"z=\", pulp.value(z.objective))\n"
   ]
  },
  {
   "cell_type": "code",
   "execution_count": null,
   "metadata": {},
   "outputs": [],
   "source": []
  }
 ],
 "metadata": {
  "kernelspec": {
   "display_name": "Python 3.6 (tensorflow)",
   "language": "python",
   "name": "tensorflow"
  },
  "language_info": {
   "codemirror_mode": {
    "name": "ipython",
    "version": 3
   },
   "file_extension": ".py",
   "mimetype": "text/x-python",
   "name": "python",
   "nbconvert_exporter": "python",
   "pygments_lexer": "ipython3",
   "version": "3.6.9"
  }
 },
 "nbformat": 4,
 "nbformat_minor": 2
}
